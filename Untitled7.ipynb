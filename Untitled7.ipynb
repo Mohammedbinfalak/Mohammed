{
 "cells": [
  {
   "cell_type": "code",
   "execution_count": 1,
   "id": "4e7d2826-a5b9-4b17-abad-dbd3977e7028",
   "metadata": {},
   "outputs": [
    {
     "name": "stdout",
     "output_type": "stream",
     "text": [
      "225\n"
     ]
    }
   ],
   "source": [
    "num = [1 , 2 , 3 , 4 , 5,6,7,8,9,10,11,12,13,14,15,15,16,17,18,19,20]\n",
    "sum= 0\n",
    "for k in num:\n",
    "    sum +=k\n",
    "print(sum)"
   ]
  },
  {
   "cell_type": "code",
   "execution_count": 1,
   "id": "76f359f0-e529-4c6e-a246-268a036f8c12",
   "metadata": {},
   "outputs": [
    {
     "name": "stdin",
     "output_type": "stream",
     "text": [
      "are we there yet no\n",
      "are we there yet yes\n"
     ]
    },
    {
     "name": "stdout",
     "output_type": "stream",
     "text": [
      "yeah\n"
     ]
    }
   ],
   "source": [
    "ans = \"no\"\n",
    "while ans==\"no\":\n",
    "    ans = input(\"are we there yet\")\n",
    "print(\"yeah\")"
   ]
  },
  {
   "cell_type": "code",
   "execution_count": 3,
   "id": "7406e5fc-251a-4af2-92b7-785e06950b2e",
   "metadata": {},
   "outputs": [
    {
     "name": "stdout",
     "output_type": "stream",
     "text": [
      "10\n",
      "13\n",
      "16\n",
      "19\n"
     ]
    }
   ],
   "source": [
    "number = 10\n",
    "while number<=20:\n",
    "    print(number)\n",
    "    number +=3"
   ]
  },
  {
   "cell_type": "code",
   "execution_count": 10,
   "id": "3015dd00-df3c-4275-8e09-eb25c35d8482",
   "metadata": {},
   "outputs": [
    {
     "name": "stdin",
     "output_type": "stream",
     "text": [
      "password muhammad\n"
     ]
    },
    {
     "name": "stdout",
     "output_type": "stream",
     "text": [
      "samsung welcome\n"
     ]
    }
   ],
   "source": [
    "password = \"\"\n",
    "while password != \"muhammad\":\n",
    "   password = input(\"password\")\n",
    "print(\"samsung welcome\")#it is my mobile"
   ]
  },
  {
   "cell_type": "code",
   "execution_count": 5,
   "id": "4e974c8e-7dbd-44be-8263-f699be7b7068",
   "metadata": {},
   "outputs": [
    {
     "name": "stdout",
     "output_type": "stream",
     "text": [
      "[10, 9, 8, 7, 6, 5, 4, 3, 2, 1]\n"
     ]
    }
   ],
   "source": [
    "a = [1,2,3,4,5,6,7,8,9,10]\n",
    "a.reverse()\n",
    "print(a)"
   ]
  },
  {
   "cell_type": "code",
   "execution_count": 3,
   "id": "5100e587-03f5-4403-aa72-46bec5492474",
   "metadata": {},
   "outputs": [
    {
     "name": "stdout",
     "output_type": "stream",
     "text": [
      "yes\n"
     ]
    }
   ],
   "source": [
    "num = [ 1, 5, 7, 3, 9, 6,8,12,14,60.50,40,70,10,3]\n",
    "if 10 in num:\n",
    "    print(\"yes\")\n",
    "else:\n",
    "    print(\"no\")"
   ]
  },
  {
   "cell_type": "code",
   "execution_count": 5,
   "id": "2bfef1b1-59c6-44ee-b688-ae9a4667461b",
   "metadata": {},
   "outputs": [
    {
     "name": "stdout",
     "output_type": "stream",
     "text": [
      "long list\n"
     ]
    }
   ],
   "source": [
    "shopping_list =('oil','chips','bag','cocomo','orea', 'banana','red moon ball', 'pink moon ball')\n",
    "if len(shopping_list)==0:\n",
    "    print(\"no list\")\n",
    "elif len(shopping_list)>5:\n",
    "    print(\"long list\")\n",
    "else:\n",
    "    print(\"short list\")"
   ]
  },
  {
   "cell_type": "code",
   "execution_count": 1,
   "id": "0a31a920-bd22-49cf-a3ed-dd36df6c4b30",
   "metadata": {},
   "outputs": [
    {
     "name": "stdin",
     "output_type": "stream",
     "text": [
      "are we thier yet no\n",
      "are we thier yet yes\n"
     ]
    },
    {
     "name": "stdout",
     "output_type": "stream",
     "text": [
      "yeah\n"
     ]
    }
   ],
   "source": [
    "ans = \"no\"\n",
    "while ans == \"no\":\n",
    "    ans = input(\"are we thier yet\")\n",
    "print(\"yeah\")"
   ]
  },
  {
   "cell_type": "code",
   "execution_count": 1,
   "id": "b05445bc-d80d-43ca-a5a8-e51ad771a133",
   "metadata": {},
   "outputs": [
    {
     "name": "stdout",
     "output_type": "stream",
     "text": [
      "1\n",
      "2\n",
      "3\n",
      "4\n",
      "5\n",
      "6\n",
      "7\n",
      "8\n",
      "9\n",
      "10\n"
     ]
    }
   ],
   "source": [
    "for n in range(1,11,1):\n",
    "    print(n)"
   ]
  },
  {
   "cell_type": "code",
   "execution_count": 15,
   "id": "c895deda-1f8f-46bc-89b2-5852336543ca",
   "metadata": {},
   "outputs": [
    {
     "data": {
      "text/plain": [
       "53"
      ]
     },
     "execution_count": 15,
     "metadata": {},
     "output_type": "execute_result"
    }
   ],
   "source": [
    "def sum_list(num):\n",
    "    summ = 0\n",
    "    for i in num:\n",
    "        summ+=i\n",
    "    return summ\n",
    "num = [3, 6, 4, 7, 11, 22]\n",
    "sum_list(num)"
   ]
  },
  {
   "cell_type": "code",
   "execution_count": 27,
   "id": "20e6e5d6-ee1a-4502-9673-ef9a00312cd7",
   "metadata": {},
   "outputs": [
    {
     "data": {
      "text/plain": [
       "'the divisor is found'"
      ]
     },
     "execution_count": 27,
     "metadata": {},
     "output_type": "execute_result"
    }
   ],
   "source": [
    "def divisor(lst,num):\n",
    "    for i in lst:\n",
    "        if i % num == 0:\n",
    "            return \"the divisor is found\"\n",
    "            break\n",
    "        else:\n",
    "            return \"no\"\n",
    "            break\n",
    "lst = [5,2,3,4,5,6,7,8,9,10,12,15]\n",
    "divisor(lst,5)"
   ]
  },
  {
   "cell_type": "code",
   "execution_count": 5,
   "id": "afa9de84-6ffc-49ba-a267-aa3aa351289c",
   "metadata": {},
   "outputs": [
    {
     "name": "stdout",
     "output_type": "stream",
     "text": [
      "real root\n"
     ]
    }
   ],
   "source": [
    "a = 13\n",
    "b = 54\n",
    "c = 21\n",
    "d = b ** 2 - 4 * a * c\n",
    "if d > 0:\n",
    "    print(\"real root\") \n",
    "elif d == 0:\n",
    "    print(\"one real root\")\n",
    "elif d < 0:\n",
    "    print(\"two complex root\")\n",
    "else:\n",
    "    print(\"no\")"
   ]
  },
  {
   "cell_type": "code",
   "execution_count": null,
   "id": "58b31798-cbbe-40da-bc29-065943a0e023",
   "metadata": {},
   "outputs": [],
   "source": []
  }
 ],
 "metadata": {
  "kernelspec": {
   "display_name": "Python 3 (ipykernel)",
   "language": "python",
   "name": "python3"
  },
  "language_info": {
   "codemirror_mode": {
    "name": "ipython",
    "version": 3
   },
   "file_extension": ".py",
   "mimetype": "text/x-python",
   "name": "python",
   "nbconvert_exporter": "python",
   "pygments_lexer": "ipython3",
   "version": "3.12.7"
  }
 },
 "nbformat": 4,
 "nbformat_minor": 5
}
